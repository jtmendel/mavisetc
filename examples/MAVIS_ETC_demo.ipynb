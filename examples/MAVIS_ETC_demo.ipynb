{
 "cells": [
  {
   "cell_type": "code",
   "execution_count": null,
   "metadata": {},
   "outputs": [],
   "source": [
    "%matplotlib widget\n",
    "import matplotlib.pyplot as plt\n",
    "\n",
    "from mavisetc.instruments import (MAVIS_IFS, MAVIS_Imager)\n",
    "from mavisetc.sources import (flat_source, template_source)\n",
    "from mavisetc.background import sky_source\n",
    "\n",
    "import numpy as np\n",
    "import matplotlib\n",
    "from matplotlib.ticker import MultipleLocator\n",
    "\n",
    "params = {'axes.labelsize': 16,\n",
    "        'font.size': 14.0,\n",
    "        'axes.linewidth': 1.20,\n",
    "        'lines.linewidth': 1.0,\n",
    "        'xtick.labelsize': 14.0,\n",
    "        'ytick.labelsize': 14.0,\n",
    "        'font.family': 'Serif',\n",
    "        'font.weight': 'roman',\n",
    "        'font.serif': ['Times'],\n",
    "        'text.usetex': True}\n",
    "plt.rcParams.update(params)"
   ]
  },
  {
   "cell_type": "markdown",
   "metadata": {},
   "source": [
    "# Load in some sky and source models"
   ]
  },
  {
   "cell_type": "code",
   "execution_count": null,
   "metadata": {},
   "outputs": [],
   "source": [
    "###### SKY MODEL ########\n",
    "#initialize the sky model, working in offline mode \n",
    "#this will just use the nearest pre-determined sky in FLI\n",
    "skyModel = sky_source(offline=True)\n",
    "\n",
    "#set sky to dark, zenith, and standard PWV\n",
    "skyModel.set_params(fli=0.0, airmass=1.16, pwv=10)\n",
    "\n",
    "##### SOURCE MODELS ######\n",
    "#we'll just initialize a flat model and template model for now.\n",
    "flatSource = flat_source()\n",
    "templateSource = template_source()"
   ]
  },
  {
   "cell_type": "markdown",
   "metadata": {},
   "source": [
    "## Spectrograph\n",
    "#### 1) Let's look at sensitivity limits for the coarse pixel scale\n",
    "\n",
    "1 hour on source (4 x 900s integrations), 50mas pixel scale, 3x3 spatial binning"
   ]
  },
  {
   "cell_type": "code",
   "execution_count": null,
   "metadata": {},
   "outputs": [],
   "source": [
    "ndit = 4 # number of exposures\n",
    "dit = 900 # integration time per exposure\n",
    "\n",
    "colors = ['C0', 'C3', 'skyblue', 'indianred']\n",
    "labels = ['LR-blue']#, 'LR-red', 'HR-blue','HR-red']\n",
    "names = ['LRB']#, 'LRR', 'HRB', 'HRR']\n",
    "\n",
    "#coarse spaxel scale\n",
    "fig, ax = plt.subplots(figsize=(8,5), constrained_layout=True)\n",
    "for ii, grating in enumerate(labels):\n",
    "    #initialze the MAVIS IFS with this grating mode and pixel scale\n",
    "    mavis_ifs = MAVIS_IFS(mode=grating, pix_scale=0.025)\n",
    "    \n",
    "    #estimate the limiting magnitude for a 10 sigma point source detection, 3x3 spatial binning\n",
    "    limiting_mag = mavis_ifs.get_mag_limit(sn=10, sky=skyModel, dit=dit, ndit=ndit, binning=3, norm='point')\n",
    "         \n",
    "    #plot it!\n",
    "    #limiting_mag[(mavis_ifs.inst_wavelength < 0.37) | (mavis_ifs.inst_wavelength > 0.95)] = np.nan\n",
    "    ax.plot(mavis_ifs.inst_wavelength*1e3, limiting_mag, linewidth=1.5, color=colors[ii])\n",
    "        \n",
    "#add some axis labels\n",
    "plt.ylabel(r'10$\\sigma$ limiting mag in 1 hr [AB mag]')\n",
    "\n",
    "plt.xlabel('Wavelength [nm]')\n",
    "\n",
    "#set some sensible axis limits\n",
    "plt.xlim(370, 950)\n",
    "plt.ylim(16, 21)\n",
    "\n",
    "\n",
    "ax.grid(True, color='black', zorder=4, alpha=0.3)\n",
    "ax.xaxis.set_major_locator(MultipleLocator(100))\n",
    "ax.xaxis.set_minor_locator(MultipleLocator(20))\n",
    "ax.yaxis.set_major_locator(MultipleLocator(0.5))\n",
    "ax.yaxis.set_minor_locator(MultipleLocator(0.1))\n",
    "\n",
    "plt.show()\n"
   ]
  },
  {
   "cell_type": "markdown",
   "metadata": {},
   "source": [
    "#### 2) Comparison of the surface brightness sensitivity for fine and coarse spaxel scales with the low-res red grating.\n",
    "\n",
    "1 hour on source (4 x 900s integrations), per spatial pixel"
   ]
  },
  {
   "cell_type": "code",
   "execution_count": null,
   "metadata": {},
   "outputs": [],
   "source": [
    "ndit = 4 # number of exposures\n",
    "dit = 900 # integration time per exposure\n",
    "\n",
    "fig, ax = plt.subplots(figsize=(8,5), constrained_layout=True)\n",
    "\n",
    "for pixel_scale in [0.025,0.05]:\n",
    "    mavis_ifs = MAVIS_IFS(mode='LR-red', pix_scale=pixel_scale)\n",
    "\n",
    "    #estimate the limiting SB for a 10 sigma detection per pixel\n",
    "    limiting_mag = mavis_ifs.get_mag_limit(sn=10, sky=skyModel, dit=dit, ndit=ndit, binning=1, norm='extended')\n",
    "        \n",
    "    #plot it!\n",
    "    ax.plot(mavis_ifs.inst_wavelength, limiting_mag, linewidth=1)\n",
    "\n",
    "#set some sensible axis limits\n",
    "plt.xlim(0.5, 1.05)\n",
    "plt.ylim(10, 16)\n",
    "ax.grid(True, color='black', zorder=4, alpha=0.3)\n",
    "\n",
    "#add some axis labels\n",
    "plt.ylabel('limiting SB [AB mag/arcsec$^2$]')\n",
    "plt.xlabel('wavelength [microns]')\n",
    "plt.show()\n"
   ]
  },
  {
   "cell_type": "markdown",
   "metadata": {},
   "source": [
    "#### 3) Simulated observation of star-forming galaxy at z=0.4, with an i-band surface brightness of 19.\n",
    "    \n",
    "low-resolution red grating, 50mas pixel scale, 4 hours on source (12 x 1200s integrations)"
   ]
  },
  {
   "cell_type": "code",
   "execution_count": null,
   "metadata": {},
   "outputs": [],
   "source": [
    "#set up the template\n",
    "templateSource.set_params(template='Sc', redshift=0.4, obs_mag=19, obs_band='sdss_i', norm='extended')\n",
    "\n",
    "#set up the IFS\n",
    "mavis_ifs = MAVIS_IFS(mode='LR-red', pix_scale=0.05)\n",
    "\n",
    "#generate a mock observations\n",
    "noisy_template, noiseless_template = mavis_ifs.observe(templateSource, sky=skyModel, dit=1200, ndit=12)\n",
    "\n",
    "#plot it!\n",
    "fig, ax = plt.subplots(figsize=(8,5), constrained_layout=True)\n",
    "ax.plot(mavis_ifs.inst_wavelength, noisy_template/1e-16, color='black')\n",
    "ax.plot(mavis_ifs.inst_wavelength, noiseless_template/1e-16, color='C3')\n",
    "\n",
    "#some sensibile axis limits\n",
    "plt.xlim(mavis_ifs.inst_wavelength.min(), mavis_ifs.inst_wavelength.max())\n",
    "plt.ylim(-1, 7) #10^-16 erg/s/cm^2/A\n",
    "\n",
    "#labels\n",
    "plt.xlabel('Wavelength [microns]')\n",
    "plt.ylabel('Flux [$10^{-16}$ erg/s/cm$^{2}$/$\\mathrm{\\AA}$]')\n",
    "plt.show()"
   ]
  },
  {
   "cell_type": "markdown",
   "metadata": {},
   "source": [
    "#### 4) Exposure time estimates for a compact (point source) ETG at z=0.8"
   ]
  },
  {
   "cell_type": "code",
   "execution_count": null,
   "metadata": {},
   "outputs": [],
   "source": [
    "#set up the template\n",
    "templateSource.set_params(template='E', redshift=0.8, obs_mag=25, obs_band='sdss_i', norm='point')\n",
    "\n",
    "#set up the IFS\n",
    "mavis_ifs = MAVIS_IFS(mode='LR-red', pix_scale=0.05)\n",
    "\n",
    "#number of 1200s exposures to reach S/N of at least 5 near redshifted Hbeta\n",
    "_,_ = mavis_ifs.calc_sn(templateSource, sky=skyModel, dit=1200., sn=5, ref_wl=4855.5*1.8/1e4)\n",
    "\n",
    "#S/N near Hbeta given 10 x 600s exposures\n",
    "_,_ = mavis_ifs.calc_sn(templateSource, sky=skyModel, dit=600., ndit=10, ref_wl=4855.5*1.8/1e4)"
   ]
  },
  {
   "cell_type": "markdown",
   "metadata": {},
   "source": [
    "## Imager"
   ]
  },
  {
   "cell_type": "markdown",
   "metadata": {},
   "source": [
    "#### 1) Limiting magnitudes for standard broadband filters"
   ]
  },
  {
   "cell_type": "code",
   "execution_count": null,
   "metadata": {},
   "outputs": [],
   "source": [
    "#initialize the imager\n",
    "mavis_imager = MAVIS_Imager()\n",
    "\n",
    "#SDSS broadband filters\n",
    "bands = ['asahi_u', 'asahi_g', 'asahi_r', 'asahi_i', 'asahi_z']\n",
    "\n",
    "cmap = matplotlib.cm.get_cmap('magma')\n",
    "colors = cmap(np.linspace(0.1,0.8,4))[::-1]\n",
    "\n",
    "#assume 4 x 900s exposures, 3x3 binning\n",
    "pivots, limits = mavis_imager.get_mag_limit(sn=5, sky=skyModel, dit=900, ndit=4, \n",
    "                                            band=bands, norm='point', binning=3)\n",
    "pivots = np.array(pivots)*1e3\n",
    "\n",
    "#plot it!\n",
    "fig, ax = plt.subplots(figsize=(8,5), constrained_layout=True)\n",
    "ax.plot(pivots, limits, 's', mfc=colors[ii], mec='black', mew=2, ms=8)\n",
    "\n",
    "#some sensibile axis limits\n",
    "dpivot = pivots.ptp()\n",
    "plt.xlim(min(pivots)-0.05*dpivot, max(pivots)+0.05*dpivot)\n",
    "plt.ylim(26, 30) \n",
    "\n",
    "ax.grid(True, color='black', zorder=4, alpha=0.3)\n",
    "\n",
    "#labels\n",
    "plt.xlabel('Filter wavelength [nm]')\n",
    "plt.ylabel(r'5$\\sigma$ Limiting AB magnitude [4$\\times$900s]')\n",
    "plt.show()"
   ]
  },
  {
   "cell_type": "markdown",
   "metadata": {},
   "source": [
    "#### 2) What about swapping out detectors"
   ]
  },
  {
   "cell_type": "code",
   "execution_count": null,
   "metadata": {},
   "outputs": [],
   "source": [
    "#initialize the imager\n",
    "mavis_imager = MAVIS_Imager()\n",
    "\n",
    "#swap out for the CCD290\n",
    "from mavisetc.detectors import CCD250\n",
    "mavis_imager_250 = MAVIS_Imager(detector=CCD250) \n",
    "\n",
    "#SDSS broadband filters\n",
    "bands = ['asahi_u', 'asahi_g', 'asahi_r', 'asahi_i', 'asahi_z']\n",
    "\n",
    "#Baseline setup with CCD250. 3 x 1200s exposures, 3x3 binning\n",
    "pivots, limits = mavis_imager.get_mag_limit(sn=10, sky=skyModel, dit=900, ndit=4, \n",
    "                                            band=bands, norm='point', binning=3)\n",
    "\n",
    "#compare with the CCD290. Assume lower CR rate and longer exposure\n",
    "pivots_250, limits_250 = mavis_imager_250.get_mag_limit(sn=10, sky=skyModel, dit=1200, ndit=3, \n",
    "                                                           band=bands, norm='point', binning=3)\n",
    "\n",
    "#plot it!\n",
    "fig, ax = plt.subplots(figsize=(8,5), constrained_layout=True)\n",
    "ax.plot(pivots, limits, 's', mfc=colors[ii], mec='black', mew=2, ms=8, label='baseline')\n",
    "ax.plot(pivots_250, limits_250, '^', mfc='white', mec='C3', mew=2, ms=8, label='CCD250')\n",
    "\n",
    "#some sensibile axis limits\n",
    "plt.xlim(0.9*min(pivots), 1.1*max(pivots))\n",
    "plt.ylim(25.5, 29.5) \n",
    "\n",
    "ax.grid(True, color='black', zorder=4, alpha=0.3)\n",
    "ax.legend()\n",
    "\n",
    "#labels\n",
    "plt.xlabel('Pivot wavelength [microns]')\n",
    "plt.ylabel('Limiting AB magnitude')\n",
    "plt.show()"
   ]
  },
  {
   "cell_type": "markdown",
   "metadata": {},
   "source": [
    "#### 3) Imaging exposure times for a compact (point source) ETG at z=0.8"
   ]
  },
  {
   "cell_type": "code",
   "execution_count": null,
   "metadata": {},
   "outputs": [],
   "source": [
    "#set up the template\n",
    "templateSource.set_params(template='E', redshift=0.8, obs_mag=28, obs_band='sdss_i', norm='point')\n",
    "\n",
    "#initialize the imager\n",
    "mavis_imager = MAVIS_Imager()\n",
    "\n",
    "#number of 600s exposures to reach S/N of at least 10 \n",
    "mavis_imager.calc_sn(templateSource, sky=skyModel, dit=600., band=['sdss_g','sdss_r','sdss_i','sdss_z'], sn=10)\n",
    "\n",
    "#S/N given 10 x 300s exposures\n",
    "mavis_imager.calc_sn(templateSource, sky=skyModel, dit=300., ndit=10, band=['sdss_g','sdss_r','sdss_i','sdss_z'])"
   ]
  }
 ],
 "metadata": {
  "kernelspec": {
   "display_name": "Python 3 (ipykernel)",
   "language": "python",
   "name": "python3"
  },
  "language_info": {
   "codemirror_mode": {
    "name": "ipython",
    "version": 3
   },
   "file_extension": ".py",
   "mimetype": "text/x-python",
   "name": "python",
   "nbconvert_exporter": "python",
   "pygments_lexer": "ipython3",
   "version": "3.10.5"
  }
 },
 "nbformat": 4,
 "nbformat_minor": 4
}
